{
 "cells": [
  {
   "cell_type": "code",
   "execution_count": 2,
   "metadata": {
    "collapsed": false
   },
   "outputs": [
    {
     "data": {
      "text/plain": [
       "r\"(\\w+)\""
      ]
     },
     "execution_count": 2,
     "metadata": {},
     "output_type": "execute_result"
    }
   ],
   "source": [
    "net_pattern = r\"net[\\s\\n]*{(\\n|.)*}\"\n",
    "node_pattern = r\"node\\s+([_\\w-]+)[\\n\\s]*{([^}]*)}\"\n",
    "potential_pattern = r\"potential\\s*\\(\\s*([_\\w-]+)\\s*(\\|\\s*([_\\w-]+\\s*)+)?\\)[\\n\\s]*{([^}]*)}\"\n",
    "statement_pattern = r\"([_\\w-]+)[]\\s\\n]*=[\\n\\s]*([^;]+);\"\n",
    "word_pattern = r\"(\\w+)\""
   ]
  },
  {
   "cell_type": "code",
   "execution_count": 3,
   "metadata": {
    "collapsed": false
   },
   "outputs": [],
   "source": [
    "type Node\n",
    "    name::String\n",
    "    states::Array{String}\n",
    "end"
   ]
  },
  {
   "cell_type": "code",
   "execution_count": 4,
   "metadata": {
    "collapsed": false
   },
   "outputs": [],
   "source": [
    "type Potential\n",
    "    node::String\n",
    "    other_nodes::Array{String, 1}\n",
    "    data::Array{Float64, 1}\n",
    "end"
   ]
  },
  {
   "cell_type": "code",
   "execution_count": 5,
   "metadata": {
    "collapsed": false,
    "scrolled": true
   },
   "outputs": [
    {
     "data": {
      "text/plain": [
       "parse_node (generic function with 1 method)"
      ]
     },
     "execution_count": 5,
     "metadata": {},
     "output_type": "execute_result"
    }
   ],
   "source": [
    "function parse_node(nodematch::RegexMatch)\n",
    "    node_name = nodematch.captures[1]\n",
    "    node_values = Array(String, 0)\n",
    "    state_match = match(statement_pattern, nodematch[2])\n",
    "    if state_match[1] == \"states\"\n",
    "        for v in eachmatch(word_pattern, state_match[2])\n",
    "            push!(node_values, v.match)\n",
    "        end\n",
    "    end\n",
    "    return Node(node_name, node_values)\n",
    "end"
   ]
  },
  {
   "cell_type": "code",
   "execution_count": 6,
   "metadata": {
    "collapsed": false
   },
   "outputs": [
    {
     "data": {
      "text/plain": [
       "parse_data_statement (generic function with 1 method)"
      ]
     },
     "execution_count": 6,
     "metadata": {},
     "output_type": "execute_result"
    }
   ],
   "source": [
    "function parse_data_statement(value)\n",
    "    value = replace(value, r\"[\\n\\r]\", \"\")\n",
    "    value = replace(value, r\"\\)\\s+\\(\", \")(\")\n",
    "    value = replace(value, r\"[)(]\", \" \")\n",
    "    data = Array(Float64, 0)\n",
    "    output = \"\"\n",
    "    for char in value\n",
    "        if char == ' '\n",
    "            if length(output) > 0\n",
    "                push!(data, float(output))\n",
    "            end\n",
    "            output = \"\"\n",
    "        else\n",
    "            output = string(output, char)\n",
    "        end\n",
    "    end\n",
    "    return data\n",
    "end"
   ]
  },
  {
   "cell_type": "code",
   "execution_count": 7,
   "metadata": {
    "collapsed": false
   },
   "outputs": [
    {
     "data": {
      "text/plain": [
       "parse_potential (generic function with 1 method)"
      ]
     },
     "execution_count": 7,
     "metadata": {},
     "output_type": "execute_result"
    }
   ],
   "source": [
    "\n",
    "function parse_potential(potentialmatch::RegexMatch)\n",
    "    node = potentialmatch[1]\n",
    "    other_nodes = potentialmatch[2]\n",
    "    others = Array(String, 0)\n",
    "    if other_nodes != nothing\n",
    "        for n in eachmatch(r\"([_\\w-]+)\", other_nodes)\n",
    "            push!(others, n.match)\n",
    "        end\n",
    "    end\n",
    "    body = potentialmatch[4]\n",
    "    values = match(statement_pattern, body)\n",
    "    if values[1] == \"data\"\n",
    "        data = parse_data_statement(values[2])\n",
    "    end\n",
    "    return Potential(node, others, data)\n",
    "end"
   ]
  },
  {
   "cell_type": "code",
   "execution_count": 10,
   "metadata": {
    "collapsed": false
   },
   "outputs": [
    {
     "data": {
      "text/plain": [
       "parse_net (generic function with 1 method)"
      ]
     },
     "execution_count": 10,
     "metadata": {},
     "output_type": "execute_result"
    }
   ],
   "source": [
    "function parse_net(net_fname)\n",
    "    f = open(net_fname) \n",
    "    net_str = readstring(f)\n",
    "    close(f)\n",
    "\n",
    "    net_str = lowercase(replace(net_str, r\"%.*\", \"\"))\n",
    "    node_list = Array(Node, 0)\n",
    "    for nodematch in eachmatch(node_pattern, net_str)\n",
    "        push!(node_list, parse_node(nodematch))\n",
    "    end\n",
    "    \n",
    "    potential_list = Array(Potential, 0)\n",
    "    for potential_match in eachmatch(potential_pattern, net_str)\n",
    "        push!(potential_list, parse_potential(potential_match))\n",
    "    end\n",
    "    \n",
    "    return node_list, potential_list\n",
    "end"
   ]
  },
  {
   "cell_type": "code",
   "execution_count": 11,
   "metadata": {
    "collapsed": false
   },
   "outputs": [
    {
     "data": {
      "text/plain": [
       "(Node[Node(\"asia\",String[\"yes\",\"no\"]),Node(\"tub\",String[\"yes\",\"no\"]),Node(\"smoke\",String[\"yes\",\"no\"]),Node(\"lung\",String[\"yes\",\"no\"]),Node(\"bronc\",String[\"yes\",\"no\"]),Node(\"either\",String[\"yes\",\"no\"]),Node(\"xray\",String[\"yes\",\"no\"]),Node(\"dysp\",String[\"yes\",\"no\"])],Potential[Potential(\"asia\",String[],[0.01,0.99]),Potential(\"tub\",String[\"asia\"],[0.05,0.95,0.01,0.99]),Potential(\"smoke\",String[],[0.5,0.5]),Potential(\"lung\",String[\"smoke\"],[0.1,0.9,0.01,0.99]),Potential(\"bronc\",String[\"smoke\"],[0.6,0.4,0.3,0.7]),Potential(\"either\",String[\"lung\",\"tub\"],[1.0,0.0,1.0,0.0,1.0,0.0,0.0,1.0]),Potential(\"xray\",String[\"either\"],[0.98,0.02,0.05,0.95]),Potential(\"dysp\",String[\"bronc\",\"either\"],[0.9,0.1,0.8,0.2,0.7,0.3,0.1,0.9])])"
      ]
     },
     "execution_count": 11,
     "metadata": {},
     "output_type": "execute_result"
    }
   ],
   "source": [
    "nodes, potentials = parse_net(\"data/asia.net\")"
   ]
  }
 ],
 "metadata": {
  "kernelspec": {
   "display_name": "Julia 0.6.0-dev",
   "language": "julia",
   "name": "julia-0.6"
  },
  "language_info": {
   "file_extension": ".jl",
   "mimetype": "application/julia",
   "name": "julia",
   "version": "0.6.0"
  }
 },
 "nbformat": 4,
 "nbformat_minor": 0
}
