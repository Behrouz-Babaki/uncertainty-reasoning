{
 "cells": [
  {
   "cell_type": "code",
   "execution_count": 1,
   "metadata": {
    "collapsed": false,
    "scrolled": true
   },
   "outputs": [],
   "source": [
    "push!(LOAD_PATH, \"/home/behrouz/joey/Docs/Personal/uncertainty-reasoning/my_engine/julia_engine\")\n",
    "using ParseNet"
   ]
  },
  {
   "cell_type": "code",
   "execution_count": 2,
   "metadata": {
    "collapsed": false
   },
   "outputs": [
    {
     "data": {
      "text/plain": [
       "(ParseNet.Node[ParseNet.Node(\"asia\",String[\"yes\",\"no\"]),ParseNet.Node(\"tub\",String[\"yes\",\"no\"]),ParseNet.Node(\"smoke\",String[\"yes\",\"no\"]),ParseNet.Node(\"lung\",String[\"yes\",\"no\"]),ParseNet.Node(\"bronc\",String[\"yes\",\"no\"]),ParseNet.Node(\"either\",String[\"yes\",\"no\"]),ParseNet.Node(\"xray\",String[\"yes\",\"no\"]),ParseNet.Node(\"dysp\",String[\"yes\",\"no\"])],ParseNet.Potential[ParseNet.Potential(\"asia\",String[],[0.01,0.99]),ParseNet.Potential(\"tub\",String[\"asia\"],[0.05,0.95,0.01,0.99]),ParseNet.Potential(\"smoke\",String[],[0.5,0.5]),ParseNet.Potential(\"lung\",String[\"smoke\"],[0.1,0.9,0.01,0.99]),ParseNet.Potential(\"bronc\",String[\"smoke\"],[0.6,0.4,0.3,0.7]),ParseNet.Potential(\"either\",String[\"lung\",\"tub\"],[1.0,0.0,1.0,0.0,1.0,0.0,0.0,1.0]),ParseNet.Potential(\"xray\",String[\"either\"],[0.98,0.02,0.05,0.95]),ParseNet.Potential(\"dysp\",String[\"bronc\",\"either\"],[0.9,0.1,0.8,0.2,0.7,0.3,0.1,0.9])])"
      ]
     },
     "execution_count": 2,
     "metadata": {},
     "output_type": "execute_result"
    }
   ],
   "source": [
    "node_list, potential_list = parse_net(\"data/asia.net\")"
   ]
  },
  {
   "cell_type": "code",
   "execution_count": 3,
   "metadata": {
    "collapsed": false
   },
   "outputs": [
    {
     "data": {
      "text/plain": [
       "create_moral_graph (generic function with 1 method)"
      ]
     },
     "execution_count": 3,
     "metadata": {},
     "output_type": "execute_result"
    }
   ],
   "source": [
    "# Returns a moral graph as an adjacency matrix\n",
    "function create_moral_graph(node_list::Array{Node,1}, \n",
    "                potential_list::Array{Potential,1})\n",
    "    a_list = Dict{String, Set{String}}()\n",
    "    # initialize with empty set\n",
    "    for n in node_list\n",
    "        a_list[n.name] = Set{String}()\n",
    "    end\n",
    "    \n",
    "    function add_edge(i, j)\n",
    "        push!(a_list[i], j)\n",
    "        push!(a_list[j], i)\n",
    "    end\n",
    "    \n",
    "    for p in potential_list\n",
    "        for o in p.other_nodes\n",
    "            add_edge(p.node, o)\n",
    "        end\n",
    "        for i in 1:length(p.other_nodes)\n",
    "            for j in (i+1):length(p.other_nodes)\n",
    "                add_edge(p.other_nodes[i], p.other_nodes[j])\n",
    "            end\n",
    "        end\n",
    "    end\n",
    "    return a_list\n",
    "end"
   ]
  },
  {
   "cell_type": "code",
   "execution_count": 4,
   "metadata": {
    "collapsed": false,
    "scrolled": true
   },
   "outputs": [
    {
     "data": {
      "text/plain": [
       "Dict{String,Set{String}} with 8 entries:\n",
       "  \"bronc\"  => Set(String[\"either\",\"dysp\",\"smoke\"])\n",
       "  \"asia\"   => Set(String[\"tub\"])\n",
       "  \"lung\"   => Set(String[\"either\",\"tub\",\"smoke\"])\n",
       "  \"either\" => Set(String[\"bronc\",\"lung\",\"dysp\",\"tub\",\"xray\"])\n",
       "  \"dysp\"   => Set(String[\"bronc\",\"either\"])\n",
       "  \"tub\"    => Set(String[\"either\",\"asia\",\"lung\"])\n",
       "  \"xray\"   => Set(String[\"either\"])\n",
       "  \"smoke\"  => Set(String[\"bronc\",\"lung\"])"
      ]
     },
     "execution_count": 4,
     "metadata": {},
     "output_type": "execute_result"
    }
   ],
   "source": [
    "create_moral_graph(node_list, potential_list)"
   ]
  },
  {
   "cell_type": "code",
   "execution_count": 18,
   "metadata": {
    "collapsed": false
   },
   "outputs": [
    {
     "name": "stderr",
     "output_type": "stream",
     "text": [
      "WARNING: Method definition get_next_node(Base.Dict{String, Base.Set{String}}, Base.Dict{String, Int64}) in module Main at In[9]:5 overwritten at In[18]:5.\n"
     ]
    },
    {
     "data": {
      "text/plain": [
       "get_next_node (generic function with 1 method)"
      ]
     },
     "execution_count": 18,
     "metadata": {},
     "output_type": "execute_result"
    }
   ],
   "source": [
    "function get_next_node(g::Dict{String,Set{String}}, \n",
    "    node_weights::Dict{String,Int})\n",
    "    # for all nodes, compute the number of edges to be added \n",
    "    # and the cluster weight\n",
    "    best_f = 0\n",
    "    best_w = 0\n",
    "    best_k = 0\n",
    "    function update(f, w, k)\n",
    "        best_f = f\n",
    "        best_w = w\n",
    "        best_k = k\n",
    "    end\n",
    "\n",
    "    nodes =  collect(keys(g))\n",
    "    first = true\n",
    "    for (k, node) in enumerate(nodes)\n",
    "        nei = collect(g[node])\n",
    "        f = 0\n",
    "        w = node_weights[node]\n",
    "        for i in 1:length(nei)\n",
    "            w += node_weights[nei[i]]\n",
    "            for j in (i+1):length(nei)\n",
    "                if !(nei[i] in g[nei[j]])\n",
    "                    f += 1\n",
    "                end\n",
    "            end\n",
    "        end\n",
    "        if first\n",
    "            first = false\n",
    "            update(f, w, k)\n",
    "        else\n",
    "            if (f < best_f) || (f == best_f && w < best_w)\n",
    "                update(f, w, k)\n",
    "            end\n",
    "        end\n",
    "    end\n",
    "    return nodes[best_k]\n",
    "end"
   ]
  },
  {
   "cell_type": "code",
   "execution_count": 21,
   "metadata": {
    "collapsed": false
   },
   "outputs": [
    {
     "name": "stderr",
     "output_type": "stream",
     "text": [
      "WARNING: Method definition triangulate_graph(Base.Dict{String, Base.Set{String}}, Array{ParseNet.Node, 1}) in module Main at In[6]:5 overwritten at In[21]:5.\n"
     ]
    },
    {
     "data": {
      "text/plain": [
       "triangulate_graph (generic function with 1 method)"
      ]
     },
     "execution_count": 21,
     "metadata": {},
     "output_type": "execute_result"
    }
   ],
   "source": [
    "# TODO use a binary heap for getting the next node\n",
    "# footnote 7 in page 12 of Huang and Darwiche\n",
    "function triangulate_graph(g::Dict{String,Set{String}}, \n",
    "    node_list::Array{Node, 1})\n",
    "    g1 = deepcopy(g)\n",
    "    g2 = deepcopy(g)    \n",
    "    function add_edge(i, j)\n",
    "        for g in (g1, g2)\n",
    "            push!(g[i], j)\n",
    "            push!(g[j], i)\n",
    "        end\n",
    "    end\n",
    "    \n",
    "    node_weights = Dict{String, Int}()\n",
    "    for node in node_list\n",
    "        node_weights[node.name] = length(node.states)\n",
    "    end\n",
    "    \n",
    "    clusters = Array{Set{String}, 1}()\n",
    "    function check_add(g::Dict{String, Set{String}}, node::String)\n",
    "        cluster = g[node]\n",
    "        push!(cluster, node)\n",
    "        subsumed = false\n",
    "        for c in clusters\n",
    "            if issubset(cluster, c)\n",
    "                subsumed = true\n",
    "                break\n",
    "            end\n",
    "        end\n",
    "        if !subsumed\n",
    "            push!(clusters, cluster)\n",
    "        end\n",
    "    end\n",
    "    \n",
    "    #TODO add clusters\n",
    "    while !isempty(keys(g1))\n",
    "        next_node = get_next_node(g1, node_weights)\n",
    "        println(next_node)\n",
    "        nei = collect(g1[next_node])\n",
    "        for i in 1:length(nei)\n",
    "            for j in (i+1):length(nei)\n",
    "                add_edge(nei[i], nei[j])\n",
    "            end\n",
    "            delete!(g1[nei[i]], next_node)\n",
    "        end\n",
    "        delete!(g1, next_node)\n",
    "    end\n",
    "    return g2, clusters\n",
    "end"
   ]
  },
  {
   "cell_type": "code",
   "execution_count": 22,
   "metadata": {
    "collapsed": false,
    "scrolled": false
   },
   "outputs": [
    {
     "data": {
      "text/plain": [
       "Dict{String,Set{String}} with 8 entries:\n",
       "  \"bronc\"  => Set(String[\"either\",\"dysp\",\"smoke\"])\n",
       "  \"asia\"   => Set(String[\"tub\"])\n",
       "  \"lung\"   => Set(String[\"either\",\"tub\",\"smoke\"])\n",
       "  \"either\" => Set(String[\"bronc\",\"lung\",\"dysp\",\"tub\",\"xray\"])\n",
       "  \"dysp\"   => Set(String[\"bronc\",\"either\"])\n",
       "  \"tub\"    => Set(String[\"either\",\"asia\",\"lung\"])\n",
       "  \"xray\"   => Set(String[\"either\"])\n",
       "  \"smoke\"  => Set(String[\"bronc\",\"lung\"])"
      ]
     },
     "execution_count": 22,
     "metadata": {},
     "output_type": "execute_result"
    }
   ],
   "source": [
    "x = create_moral_graph(node_list, potential_list)"
   ]
  },
  {
   "cell_type": "code",
   "execution_count": 23,
   "metadata": {
    "collapsed": false,
    "scrolled": true
   },
   "outputs": [
    {
     "name": "stdout",
     "output_type": "stream",
     "text": [
      "asia\n",
      "xray\n",
      "dysp\n",
      "tub\n",
      "bronc\n",
      "lung\n",
      "either\n",
      "smoke\n"
     ]
    },
    {
     "data": {
      "text/plain": [
       "Dict{String,Set{String}} with 8 entries:\n",
       "  \"bronc\"  => Set(String[\"either\",\"dysp\",\"smoke\"])\n",
       "  \"asia\"   => Set(String[\"tub\"])\n",
       "  \"lung\"   => Set(String[\"either\",\"tub\",\"smoke\"])\n",
       "  \"either\" => Set(String[\"bronc\",\"lung\",\"dysp\",\"tub\",\"xray\",\"smoke\"])\n",
       "  \"dysp\"   => Set(String[\"bronc\",\"either\"])\n",
       "  \"tub\"    => Set(String[\"either\",\"asia\",\"lung\"])\n",
       "  \"xray\"   => Set(String[\"either\"])\n",
       "  \"smoke\"  => Set(String[\"bronc\",\"either\",\"lung\"])"
      ]
     },
     "execution_count": 23,
     "metadata": {},
     "output_type": "execute_result"
    }
   ],
   "source": [
    "y = triangulate_graph(x, node_list)"
   ]
  },
  {
   "cell_type": "code",
   "execution_count": 24,
   "metadata": {
    "collapsed": false
   },
   "outputs": [
    {
     "data": {
      "text/plain": [
       "0-element Array{Set{String},1}"
      ]
     },
     "execution_count": 24,
     "metadata": {},
     "output_type": "execute_result"
    }
   ],
   "source": [
    "x = Array{Set{String}, 1}()"
   ]
  },
  {
   "cell_type": "code",
   "execution_count": 25,
   "metadata": {
    "collapsed": false
   },
   "outputs": [
    {
     "data": {
      "text/plain": [
       "1-element Array{Set{String},1}:\n",
       " Set(String[\"That\",\"This\"])"
      ]
     },
     "execution_count": 25,
     "metadata": {},
     "output_type": "execute_result"
    }
   ],
   "source": [
    "push!(x, Set([\"This\", \"That\"]))"
   ]
  },
  {
   "cell_type": "code",
   "execution_count": 1,
   "metadata": {
    "collapsed": false
   },
   "outputs": [
    {
     "data": {
      "text/plain": [
       "Set([2,3,1])"
      ]
     },
     "execution_count": 1,
     "metadata": {},
     "output_type": "execute_result"
    }
   ],
   "source": [
    "t = Set([1, 2, 3])"
   ]
  },
  {
   "cell_type": "code",
   "execution_count": 3,
   "metadata": {
    "collapsed": false,
    "scrolled": true
   },
   "outputs": [
    {
     "data": {
      "text/plain": [
       "Set([4,2,3,1])"
      ]
     },
     "execution_count": 3,
     "metadata": {},
     "output_type": "execute_result"
    }
   ],
   "source": [
    "push!(t, 4)"
   ]
  },
  {
   "cell_type": "code",
   "execution_count": 4,
   "metadata": {
    "collapsed": false
   },
   "outputs": [
    {
     "data": {
      "text/plain": [
       "true"
      ]
     },
     "execution_count": 4,
     "metadata": {},
     "output_type": "execute_result"
    }
   ],
   "source": [
    "issubset(t, Set([1, 2, 3, 4, 5]))"
   ]
  }
 ],
 "metadata": {
  "kernelspec": {
   "display_name": "Julia 0.6.0-dev",
   "language": "julia",
   "name": "julia-0.6"
  },
  "language_info": {
   "file_extension": ".jl",
   "mimetype": "application/julia",
   "name": "julia",
   "version": "0.6.0"
  }
 },
 "nbformat": 4,
 "nbformat_minor": 0
}
