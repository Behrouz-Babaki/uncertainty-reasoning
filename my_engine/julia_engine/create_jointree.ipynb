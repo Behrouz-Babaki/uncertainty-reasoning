{
 "cells": [
  {
   "cell_type": "code",
   "execution_count": 1,
   "metadata": {
    "collapsed": false,
    "scrolled": true
   },
   "outputs": [],
   "source": [
    "push!(LOAD_PATH, pwd())\n",
    "using JoinTreeInference.Node\n",
    "using JoinTreeInference.Potential\n",
    "using JoinTreeInference.parse_net"
   ]
  },
  {
   "cell_type": "code",
   "execution_count": 2,
   "metadata": {
    "collapsed": false
   },
   "outputs": [
    {
     "data": {
      "text/plain": [
       "create_moral_graph (generic function with 1 method)"
      ]
     },
     "execution_count": 2,
     "metadata": {},
     "output_type": "execute_result"
    }
   ],
   "source": [
    "function create_moral_graph(node_list::Array{Node,1}, \n",
    "                potential_list::Array{Potential,1})\n",
    "    a_list = Dict{String, Set{String}}()\n",
    "    for n in node_list\n",
    "        a_list[n.name] = Set{String}()\n",
    "    end\n",
    "    \n",
    "    function add_edge(i, j)\n",
    "        push!(a_list[i], j)\n",
    "        push!(a_list[j], i)\n",
    "    end\n",
    "    \n",
    "    for p in potential_list\n",
    "        for o in p.other_nodes\n",
    "            add_edge(p.node, o)\n",
    "        end\n",
    "        for i in 1:length(p.other_nodes)\n",
    "            for j in (i+1):length(p.other_nodes)\n",
    "                add_edge(p.other_nodes[i], p.other_nodes[j])\n",
    "            end\n",
    "        end\n",
    "    end\n",
    "    return a_list\n",
    "end\n"
   ]
  },
  {
   "cell_type": "code",
   "execution_count": 3,
   "metadata": {
    "collapsed": false
   },
   "outputs": [
    {
     "data": {
      "text/plain": [
       "get_next_node (generic function with 1 method)"
      ]
     },
     "execution_count": 3,
     "metadata": {},
     "output_type": "execute_result"
    }
   ],
   "source": [
    "function get_next_node(g::Dict{String,Set{String}}, \n",
    "    node_weights::Dict{String,Int})\n",
    "\n",
    "    best_f = 0\n",
    "    best_w = 0\n",
    "    best_k = 0\n",
    "    function update(f, w, k)\n",
    "        best_f = f\n",
    "        best_w = w\n",
    "        best_k = k\n",
    "    end\n",
    "\n",
    "    nodes =  collect(keys(g))\n",
    "    first = true\n",
    "    for (k, node) in enumerate(nodes)\n",
    "        nei = collect(g[node])\n",
    "        f = 0\n",
    "        w = node_weights[node]\n",
    "        for i in 1:length(nei)\n",
    "            w += node_weights[nei[i]]\n",
    "            for j in (i+1):length(nei)\n",
    "                if !(nei[i] in g[nei[j]])\n",
    "                    f += 1\n",
    "                end\n",
    "            end\n",
    "        end\n",
    "        if first\n",
    "            first = false\n",
    "            update(f, w, k)\n",
    "        else\n",
    "            if (f < best_f) || (f == best_f && w < best_w)\n",
    "                update(f, w, k)\n",
    "            end\n",
    "        end\n",
    "    end\n",
    "    return nodes[best_k]\n",
    "end\n"
   ]
  },
  {
   "cell_type": "code",
   "execution_count": 4,
   "metadata": {
    "collapsed": false
   },
   "outputs": [
    {
     "data": {
      "text/plain": [
       "triangulate_graph (generic function with 1 method)"
      ]
     },
     "execution_count": 4,
     "metadata": {},
     "output_type": "execute_result"
    }
   ],
   "source": [
    "function triangulate_graph(g::Dict{String,Set{String}}, \n",
    "    node_list::Array{Node, 1})\n",
    "    g1 = deepcopy(g)\n",
    "    g2 = deepcopy(g)    \n",
    "    function add_edge(i, j)\n",
    "        for g in (g1, g2)\n",
    "            push!(g[i], j)\n",
    "            push!(g[j], i)\n",
    "        end\n",
    "    end\n",
    "    \n",
    "    node_weights = Dict{String, Int}()\n",
    "    for node in node_list\n",
    "        node_weights[node.name] = length(node.states)\n",
    "    end\n",
    "    \n",
    "    clusters = Array{Set{String}, 1}()\n",
    "    function check_add(g::Dict{String, Set{String}}, node::String)\n",
    "        cluster = copy(g[node])\n",
    "        push!(cluster, node)\n",
    "        subsumed = false\n",
    "        for c in clusters\n",
    "            if issubset(cluster, c)\n",
    "                subsumed = true\n",
    "                break\n",
    "            end\n",
    "        end\n",
    "        if !subsumed\n",
    "            push!(clusters, cluster)\n",
    "        end\n",
    "    end\n",
    "    \n",
    "    while !isempty(keys(g1))\n",
    "        next_node = get_next_node(g1, node_weights)\n",
    "        check_add(g1, next_node)\n",
    "        nei = collect(g1[next_node])\n",
    "        for i in 1:length(nei)\n",
    "            for j in (i+1):length(nei)\n",
    "                add_edge(nei[i], nei[j])\n",
    "            end\n",
    "            delete!(g1[nei[i]], next_node)\n",
    "        end\n",
    "        delete!(g1, next_node)\n",
    "    end\n",
    "    return g2, clusters\n",
    "end"
   ]
  },
  {
   "cell_type": "code",
   "execution_count": 5,
   "metadata": {
    "collapsed": false
   },
   "outputs": [
    {
     "data": {
      "text/plain": [
       "(Dict(\"bronc\"=>Set(String[\"either\",\"dysp\",\"smoke\"]),\"asia\"=>Set(String[\"tub\"]),\"lung\"=>Set(String[\"either\",\"tub\",\"smoke\"]),\"either\"=>Set(String[\"bronc\",\"lung\",\"dysp\",\"tub\",\"xray\",\"smoke\"]),\"dysp\"=>Set(String[\"bronc\",\"either\"]),\"tub\"=>Set(String[\"either\",\"asia\",\"lung\"]),\"xray\"=>Set(String[\"either\"]),\"smoke\"=>Set(String[\"bronc\",\"either\",\"lung\"])),Set{String}[Set(String[\"asia\",\"tub\"]),Set(String[\"either\",\"xray\"]),Set(String[\"bronc\",\"either\",\"dysp\"]),Set(String[\"either\",\"lung\",\"tub\"]),Set(String[\"either\",\"bronc\",\"smoke\"]),Set(String[\"either\",\"lung\",\"smoke\"])])"
      ]
     },
     "execution_count": 5,
     "metadata": {},
     "output_type": "execute_result"
    }
   ],
   "source": [
    "node_list, potential_list = parse_net(\"data/asia.net\")\n",
    "mg = create_moral_graph(node_list, potential_list)\n",
    "tg, clusters = triangulate_graph(mg, node_list)"
   ]
  }
 ],
 "metadata": {
  "kernelspec": {
   "display_name": "Julia 0.5.0",
   "language": "julia",
   "name": "julia-0.5"
  },
  "language_info": {
   "file_extension": ".jl",
   "mimetype": "application/julia",
   "name": "julia",
   "version": "0.5.0"
  }
 },
 "nbformat": 4,
 "nbformat_minor": 0
}
