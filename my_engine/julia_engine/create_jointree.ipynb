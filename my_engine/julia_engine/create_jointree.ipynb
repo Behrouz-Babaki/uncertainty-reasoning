{
 "cells": [
  {
   "cell_type": "code",
   "execution_count": 1,
   "metadata": {
    "collapsed": false,
    "scrolled": true
   },
   "outputs": [],
   "source": [
    "push!(LOAD_PATH, pwd())\n",
    "using JoinTreeInference: Node, Potential, parse_net, triangulate_graph\n",
    "using DataStructures"
   ]
  },
  {
   "cell_type": "code",
   "execution_count": 2,
   "metadata": {
    "collapsed": false
   },
   "outputs": [],
   "source": [
    "type Sepset\n",
    "    first::Int64\n",
    "    second::Int64\n",
    "    nodes::Set{String}\n",
    "    mass::Int64\n",
    "    cost::Int64\n",
    "end"
   ]
  },
  {
   "cell_type": "code",
   "execution_count": 3,
   "metadata": {
    "collapsed": false
   },
   "outputs": [
    {
     "data": {
      "text/plain": [
       "create_sepsets (generic function with 1 method)"
      ]
     },
     "execution_count": 3,
     "metadata": {},
     "output_type": "execute_result"
    }
   ],
   "source": [
    "function create_sepsets(clusters, node_list)\n",
    "    node_weights = Dict{String, Int64}()\n",
    "    for node in node_list\n",
    "        node_weights[node.name] = length(node.states)\n",
    "    end\n",
    "    n = length(clusters)\n",
    "    weights = Array{Int64, 1}()\n",
    "    for i in 1:n\n",
    "        w = 1\n",
    "        for v in clusters[i]\n",
    "            w *= node_weights[v]\n",
    "        end\n",
    "        push!(weights, w)\n",
    "    end\n",
    "    \n",
    "    sepsets = Array{Sepset, 1}()\n",
    "    for i in 1:n\n",
    "        for j in (i+1):n\n",
    "            # creat a new sepset\n",
    "            nodes = intersect(clusters[i], clusters[j])\n",
    "            mass = length(nodes)\n",
    "            cost = weights[i] + weights[j]\n",
    "            push!(sepsets, Sepset(i, j, nodes, mass, cost))\n",
    "        end\n",
    "    end\n",
    "    \n",
    "    sepset_comp(x, y) = (x.mass > y.mass) || ((x.mass == y.mass) && (x.cost < y.cost))\n",
    "    return sort(sepsets, lt = sepset_comp)\n",
    "end"
   ]
  },
  {
   "cell_type": "code",
   "execution_count": 4,
   "metadata": {
    "collapsed": false
   },
   "outputs": [
    {
     "data": {
      "text/plain": [
       "create_junction_tree (generic function with 1 method)"
      ]
     },
     "execution_count": 4,
     "metadata": {},
     "output_type": "execute_result"
    }
   ],
   "source": [
    "function create_junction_tree(clusters::Array{Set{String}, 1}, sepsets::Array{Sepset, 1})\n",
    "    n = length(clusters)\n",
    "    output_tree = Dict{Int, Set{Int}}()\n",
    "    for i in 1:n\n",
    "        output_tree[i] = Set{Int}()\n",
    "    end\n",
    "    \n",
    "    tree = IntDisjointSets(n)\n",
    "    num_edges = 0\n",
    "    for sepset in sepsets\n",
    "        if num_edges == n - 1\n",
    "            break\n",
    "        end\n",
    "        if ! in_same_set(tree, sepset.first, sepset.second)\n",
    "            union!(tree, sepset.first, sepset.second)\n",
    "            push!(output_tree[sepset.first], sepset.second)\n",
    "            push!(output_tree[sepset.second], sepset.first)\n",
    "            num_edges += 1\n",
    "        end\n",
    "    end\n",
    "    return output_tree\n",
    "end"
   ]
  },
  {
   "cell_type": "code",
   "execution_count": 5,
   "metadata": {
    "collapsed": false,
    "scrolled": false
   },
   "outputs": [
    {
     "data": {
      "text/plain": [
       "Dict{Int64,Set{Int64}} with 6 entries:\n",
       "  4 => Set([6,1])\n",
       "  2 => Set([3])\n",
       "  3 => Set([2,5])\n",
       "  5 => Set([3,6])\n",
       "  6 => Set([4,5])\n",
       "  1 => Set([4])"
      ]
     },
     "execution_count": 5,
     "metadata": {},
     "output_type": "execute_result"
    }
   ],
   "source": [
    "node_list, potential_list = parse_net(\"data/asia.net\")\n",
    "tg, clusters = triangulate_graph(node_list, potential_list)\n",
    "sepsets = create_sepsets(clusters, node_list)\n",
    "jt = create_junction_tree(clusters, sepsets)"
   ]
  }
 ],
 "metadata": {
  "kernelspec": {
   "display_name": "Julia 0.6.0-dev",
   "language": "julia",
   "name": "julia-0.6"
  },
  "language_info": {
   "file_extension": ".jl",
   "mimetype": "application/julia",
   "name": "julia",
   "version": "0.6.0"
  }
 },
 "nbformat": 4,
 "nbformat_minor": 0
}
