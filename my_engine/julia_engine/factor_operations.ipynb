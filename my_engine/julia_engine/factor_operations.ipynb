{
 "cells": [
  {
   "cell_type": "code",
   "execution_count": 1,
   "metadata": {
    "collapsed": false
   },
   "outputs": [],
   "source": [
    "push!(LOAD_PATH, pwd())\n",
    "using JoinTreeInference: Node, Potential"
   ]
  },
  {
   "cell_type": "code",
   "execution_count": 2,
   "metadata": {
    "collapsed": false
   },
   "outputs": [
    {
     "data": {
      "text/plain": [
       "Factor"
      ]
     },
     "execution_count": 2,
     "metadata": {},
     "output_type": "execute_result"
    }
   ],
   "source": [
    "type Factor\n",
    "    nodes::Array{String, 1}\n",
    "    cardinality::Array{Int, 1}\n",
    "    stride::Array{Int, 1}\n",
    "    data::Array{Float64, 1}\n",
    "end\n",
    "    \n",
    "function Factor(nodes::Array{String, 1}, cardinality::Array{Int, 1}, data::Array{Int, 1})\n",
    "    n = length(nodes)\n",
    "    stride = Array{Int, 1}(n)\n",
    "    s = 1\n",
    "    for i in 1:n\n",
    "        stride[i] = s\n",
    "        s *= cardinality[i]\n",
    "    end\n",
    "    return Factor(nodes, cardinality, stride, data)\n",
    "end"
   ]
  },
  {
   "cell_type": "code",
   "execution_count": 3,
   "metadata": {
    "collapsed": false
   },
   "outputs": [
    {
     "data": {
      "text/plain": [
       "product (generic function with 1 method)"
      ]
     },
     "execution_count": 3,
     "metadata": {},
     "output_type": "execute_result"
    }
   ],
   "source": [
    "function product(factors::Array{Factor, 1})\n",
    "        num_factors = length(factors)\n",
    "        vars = collect(union(f1.nodes, f2.nodes))\n",
    "        var_ids = Dict(j=>i for (i,j) in enumerate(vars))\n",
    "\n",
    "\n",
    "        n = length(vars)\n",
    "        cardinality = Array{Int, 1}(n)\n",
    "        stride = Array{Int, 1}(n)\n",
    "        \n",
    "        idmap = Array{Array{Int, 1}, 1}(num_factors)\n",
    "        for (i, f) in enumerate(factors)\n",
    "            nv = length(f.nodes)\n",
    "            idmap[i] = fill(0, n)\n",
    "            for (j, v) in enumerate(f.nodes)\n",
    "                id = var_ids[v]\n",
    "                cardinality[id] = f.cardinality[id]\n",
    "                idmap[i][id] = j\n",
    "            end\n",
    "        end\n",
    "        \n",
    "        s = 1\n",
    "        for i in 1:n\n",
    "            stride[i] = s\n",
    "            s *= cardinality[i]\n",
    "        end\n",
    "\n",
    "        assignments = fill(1, n)\n",
    "        ind = fill(1, num_factors)\n",
    "        num_rows = reduce(*, cardinality)\n",
    "        data = fill(1.0, num_rows)\n",
    "        for i in 1:num_rows\n",
    "            for (j, f) in enumerate(factors)\n",
    "                data[i] *= f.data[ind[j]]\n",
    "            end\n",
    "            for l in 1:n\n",
    "                assignments[l] += 1\n",
    "                if assignments[l] == cardinality[l]\n",
    "                    assignments[l] = 1\n",
    "                    for (j, id) in enumerate(ind)\n",
    "                        id2 = idmap[j][id]\n",
    "                        if id2 > 0\n",
    "                            ind[j] -= factors[j].stride[id2] * (cardinality[l]-1)\n",
    "                        end\n",
    "                    end\n",
    "                else\n",
    "                    for (j, id) in enumerate(ind)\n",
    "                        id2 = idmap[j][id]\n",
    "                        if id2 > 0\n",
    "                            ind[j] += factors[j].stride[id2]\n",
    "                        end\n",
    "                    end\n",
    "                    break\n",
    "                end\n",
    "            end\n",
    "        end\n",
    "        return Factor(vars, cardinality, stride, data)\n",
    "end"
   ]
  },
  {
   "cell_type": "code",
   "execution_count": 4,
   "metadata": {
    "collapsed": false
   },
   "outputs": [
    {
     "data": {
      "text/plain": [
       "marginalize (generic function with 1 method)"
      ]
     },
     "execution_count": 4,
     "metadata": {},
     "output_type": "execute_result"
    }
   ],
   "source": [
    "function marginalize(f::Factor, v::Set{String})\n",
    "    fn = length(f.nodes)\n",
    "    n = fn - length(v)\n",
    "    \n",
    "    vars = Array{String, 1}(n)\n",
    "    cardinality = Array{Int, 1}(n)\n",
    "    idmap = fill(0, fn)\n",
    "\n",
    "    j = 1\n",
    "    for (i, n) in enumerate(vf.nodes)\n",
    "        if !(n in v)\n",
    "            vars[j] = n\n",
    "            cardinality[j] = f.cardinality[i]\n",
    "            idmap[i] = j\n",
    "            j += 1\n",
    "        end\n",
    "    end\n",
    "    \n",
    "    stride = Array{Int, 1}(n)\n",
    "    s = 1\n",
    "    for i in 1:n\n",
    "        stride[i] = s\n",
    "        s *= cardinality[i]\n",
    "    end\n",
    "\n",
    "    \n",
    "    data = fill(0.0, reduce(*, cardinality))\n",
    "    num_rows = reduce(*, f.cardinality)\n",
    "    assignments = fill(1, fn)\n",
    "    ind = 1\n",
    "    for i in 1:num_rows\n",
    "        data[ind] += f.data[i]\n",
    "        for (l, n) in enumerate(vf.nodes)\n",
    "            assignments[l] += 1\n",
    "            if assignments[l] == f.cardinality[l]\n",
    "                assignments[l] = 1\n",
    "                if ! (n in v)\n",
    "                    ind -= stride[idmap[l]] * (f.cardinality[l]-1)\n",
    "                end\n",
    "            else\n",
    "                if !(n in v)\n",
    "                    ind += stride[idmap[l]]\n",
    "                end\n",
    "            end\n",
    "        end\n",
    "    end\n",
    "    return Factor(vars, cardinality, stride, data)        \n",
    "end"
   ]
  },
  {
   "cell_type": "code",
   "execution_count": 5,
   "metadata": {
    "collapsed": false
   },
   "outputs": [
    {
     "data": {
      "text/plain": [
       "divide (generic function with 1 method)"
      ]
     },
     "execution_count": 5,
     "metadata": {},
     "output_type": "execute_result"
    }
   ],
   "source": [
    "function divide(f1::Factor, f2::Factor)\n",
    "end"
   ]
  }
 ],
 "metadata": {
  "kernelspec": {
   "display_name": "Julia 0.6.0-dev",
   "language": "julia",
   "name": "julia-0.6"
  },
  "language_info": {
   "file_extension": ".jl",
   "mimetype": "application/julia",
   "name": "julia",
   "version": "0.6.0"
  }
 },
 "nbformat": 4,
 "nbformat_minor": 0
}
