{
 "cells": [
  {
   "cell_type": "code",
   "execution_count": 1,
   "metadata": {
    "collapsed": false
   },
   "outputs": [],
   "source": [
    "push!(LOAD_PATH, pwd())\n",
    "using JoinTreeInference: Node, Potential"
   ]
  },
  {
   "cell_type": "code",
   "execution_count": 2,
   "metadata": {
    "collapsed": false
   },
   "outputs": [
    {
     "data": {
      "text/plain": [
       "Factor"
      ]
     },
     "execution_count": 2,
     "metadata": {},
     "output_type": "execute_result"
    }
   ],
   "source": [
    "type Factor\n",
    "    nodes::Array{String, 1}\n",
    "    cardinality::Array{Int, 1}\n",
    "    stride::Array{Int, 1}\n",
    "    data::Array{Float64, 1}\n",
    "end\n",
    "    \n",
    "function Factor(nodes::Array{String, 1}, cardinality::Array{Int, 1}, data::Array{Float64, 1})\n",
    "    n = length(nodes)\n",
    "    stride = Array{Int, 1}(n)\n",
    "    s = 1\n",
    "    for i in 1:n\n",
    "        stride[i] = s\n",
    "        s *= cardinality[i]\n",
    "    end\n",
    "    return Factor(nodes, cardinality, stride, data)\n",
    "end"
   ]
  },
  {
   "cell_type": "code",
   "execution_count": 3,
   "metadata": {
    "collapsed": false
   },
   "outputs": [
    {
     "data": {
      "text/plain": [
       "product (generic function with 1 method)"
      ]
     },
     "execution_count": 3,
     "metadata": {},
     "output_type": "execute_result"
    }
   ],
   "source": [
    "function product(factors::Array{Factor, 1})\n",
    "        num_factors = length(factors)\n",
    "        vars = union([f.nodes for f in factors]...)\n",
    "        var_ids = Dict(j=>i for (i,j) in enumerate(vars))\n",
    "\n",
    "\n",
    "        n = length(vars)\n",
    "        cardinality = Array{Int, 1}(n)\n",
    "        stride = Array{Int, 1}(n)\n",
    "        \n",
    "        idmap = Array{Array{Int, 1}, 1}(num_factors)\n",
    "        for (i, f) in enumerate(factors)\n",
    "            nv = length(f.nodes)\n",
    "            idmap[i] = fill(0, n)\n",
    "            for (j, v) in enumerate(f.nodes)\n",
    "                id = var_ids[v]\n",
    "                cardinality[id] = f.cardinality[j]\n",
    "                idmap[i][id] = j\n",
    "            end\n",
    "        end\n",
    "        \n",
    "        s = 1\n",
    "        for i in 1:n\n",
    "            stride[i] = s\n",
    "            s *= cardinality[i]\n",
    "        end\n",
    "\n",
    "        assignments = fill(1, n)\n",
    "        ind = fill(1, num_factors)\n",
    "        num_rows = reduce(*, cardinality)\n",
    "        data = fill(1.0, num_rows)\n",
    "        for i in 1:num_rows\n",
    "            for (j, f) in enumerate(factors)\n",
    "                data[i] *= f.data[ind[j]]\n",
    "            end\n",
    "            for l in 1:n\n",
    "                assignments[l] += 1\n",
    "                if assignments[l] > cardinality[l]\n",
    "                    assignments[l] = 1\n",
    "                    for j in 1:num_factors\n",
    "                        id = idmap[j][l]\n",
    "                        if id > 0\n",
    "                            ind[j] -= factors[j].stride[id] * (cardinality[l]-1)\n",
    "                        end\n",
    "                    end\n",
    "                else\n",
    "                    for j in 1:num_factors\n",
    "                        id = idmap[j][l]\n",
    "                        if id > 0\n",
    "                            ind[j] += factors[j].stride[id]\n",
    "                        end\n",
    "                    end\n",
    "                    break\n",
    "                end\n",
    "            end\n",
    "        end\n",
    "        return Factor(vars, cardinality, stride, data)\n",
    "end"
   ]
  },
  {
   "cell_type": "code",
   "execution_count": 4,
   "metadata": {
    "collapsed": false,
    "scrolled": true
   },
   "outputs": [
    {
     "data": {
      "text/plain": [
       "Factor(String[\"A\",\"B\",\"C\",\"D\"],[2,3,2,2],[1,2,6,12],[1.0,2.0,6.0,8.0,15.0,18.0,28.0,32.0,45.0,50.0  …  24.0,32.0,45.0,54.0,70.0,80.0,99.0,110.0,132.0,144.0])"
      ]
     },
     "execution_count": 4,
     "metadata": {},
     "output_type": "execute_result"
    }
   ],
   "source": [
    "f1 = Factor([\"A\", \"B\", \"C\"], [2, 3, 2], collect(1.0:12.0))\n",
    "f2 = Factor([\"B\", \"C\", \"D\"], [3, 2, 2], collect(1.0:12.0))\n",
    "f3 = product([f1, f2])"
   ]
  },
  {
   "cell_type": "code",
   "execution_count": 5,
   "metadata": {
    "collapsed": false
   },
   "outputs": [
    {
     "data": {
      "text/plain": [
       "marginalize (generic function with 1 method)"
      ]
     },
     "execution_count": 5,
     "metadata": {},
     "output_type": "execute_result"
    }
   ],
   "source": [
    "function marginalize(f::Factor, v::Set{String})\n",
    "    fn = length(f.nodes)\n",
    "    n = fn - length(v)\n",
    "    \n",
    "    vars = Array{String, 1}(n)\n",
    "    cardinality = Array{Int, 1}(n)\n",
    "    idmap = fill(0, fn)\n",
    "    isin = fill(false, fn)\n",
    "\n",
    "    j = 1\n",
    "    for (i, var) in enumerate(f.nodes)\n",
    "        if !(var in v)\n",
    "            vars[j] = var\n",
    "            cardinality[j] = f.cardinality[i]\n",
    "            idmap[i] = j\n",
    "            isin[i] = true\n",
    "            j += 1\n",
    "        end\n",
    "    end\n",
    "    \n",
    "    stride = Array{Int, 1}(n)\n",
    "    s = 1\n",
    "    for i in 1:n\n",
    "        stride[i] = s\n",
    "        s *= cardinality[i]\n",
    "    end\n",
    "\n",
    "    \n",
    "    data = fill(0.0, reduce(*, cardinality))\n",
    "    num_rows = reduce(*, f.cardinality)\n",
    "    assignments = fill(1, fn)\n",
    "    ind = 1\n",
    "    for i in 1:num_rows\n",
    "        data[ind] += f.data[i]\n",
    "        for (l, n) in enumerate(f.nodes)\n",
    "            assignments[l] += 1\n",
    "            if assignments[l] > f.cardinality[l]\n",
    "                assignments[l] = 1\n",
    "                if isin[l]\n",
    "                    ind -= stride[idmap[l]] * (f.cardinality[l]-1)\n",
    "                end\n",
    "            else\n",
    "                if isin[l]\n",
    "                    ind += stride[idmap[l]]\n",
    "                end\n",
    "                break\n",
    "            end\n",
    "        end\n",
    "    end\n",
    "    return Factor(vars, cardinality, stride, data)        \n",
    "end"
   ]
  },
  {
   "cell_type": "code",
   "execution_count": 6,
   "metadata": {
    "collapsed": false
   },
   "outputs": [
    {
     "data": {
      "text/plain": [
       "Factor(String[\"B\",\"C\"],[3,2],[1,3],[24.0,70.0,132.0,210.0,304.0,414.0])"
      ]
     },
     "execution_count": 6,
     "metadata": {},
     "output_type": "execute_result"
    }
   ],
   "source": [
    "f4 = marginalize(f3, Set([\"A\", \"D\"]))"
   ]
  },
  {
   "cell_type": "code",
   "execution_count": 7,
   "metadata": {
    "collapsed": false
   },
   "outputs": [
    {
     "data": {
      "text/plain": [
       "divide (generic function with 1 method)"
      ]
     },
     "execution_count": 7,
     "metadata": {},
     "output_type": "execute_result"
    }
   ],
   "source": [
    "function divide(f1::Factor, f2::Factor)\n",
    "    d = Dict((j, i) for (i,j) in enumerate(f2.nodes))\n",
    "    v = Set(f2.nodes)\n",
    "    \n",
    "    fn = length(f1.nodes)\n",
    "    idmap = fill(0, fn)\n",
    "    isin = fill(false, fn)\n",
    "    for (i, n) in enumerate(f1.nodes)\n",
    "        if n in v\n",
    "            isin[i] = true\n",
    "            idmap[i] = d[n]\n",
    "        end\n",
    "    end\n",
    "    \n",
    "    assignments = fill(1, fn)\n",
    "    f = deepcopy(f1)\n",
    "    num_rows = reduce(*, f.cardinality)\n",
    "    ind = 1\n",
    "    for i in 1:num_rows\n",
    "        f.data[i] /= f2.data[ind]\n",
    "        for (l, n) in enumerate(f1.nodes)\n",
    "            assignments[l] += 1\n",
    "            if assignments[l] > f.cardinality[l]\n",
    "                assignments[l] = 1\n",
    "                if isin[l]\n",
    "                    ind -= f.stride[idmap[l]] * (f.cardinality[l]-1)\n",
    "                end\n",
    "            else\n",
    "                if isin[l]\n",
    "                    ind += f.stride[idmap[l]]\n",
    "                end\n",
    "                break\n",
    "            end\n",
    "        end\n",
    "    end\n",
    "    return f\n",
    "end"
   ]
  },
  {
   "cell_type": "code",
   "execution_count": 8,
   "metadata": {
    "collapsed": false,
    "scrolled": true
   },
   "outputs": [
    {
     "data": {
      "text/plain": [
       "Factor(String[\"A\",\"B\",\"C\",\"D\"],[2,3,2,2],[1,2,6,12],[0.0416667,0.0833333,0.0857143,0.114286,0.113636,0.136364,0.212121,0.242424,0.214286,0.238095  …  0.342857,0.457143,0.340909,0.409091,0.530303,0.606061,0.471429,0.52381,0.434211,0.473684])"
      ]
     },
     "execution_count": 8,
     "metadata": {},
     "output_type": "execute_result"
    }
   ],
   "source": [
    "f5 = divide(f3, f4)"
   ]
  }
 ],
 "metadata": {
  "kernelspec": {
   "display_name": "Julia 0.6.0-dev",
   "language": "julia",
   "name": "julia-0.6"
  },
  "language_info": {
   "file_extension": ".jl",
   "mimetype": "application/julia",
   "name": "julia",
   "version": "0.6.0"
  }
 },
 "nbformat": 4,
 "nbformat_minor": 0
}
